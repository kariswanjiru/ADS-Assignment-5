{
 "cells": [
  {
   "cell_type": "markdown",
   "id": "da45c0f4-c56d-4a2b-860b-6d2036418a4b",
   "metadata": {},
   "source": [
    "# Assignment 5"
   ]
  },
  {
   "cell_type": "markdown",
   "id": "d45535b8-2a39-49e1-8593-e43172fea2db",
   "metadata": {},
   "source": [
    "## Ploty"
   ]
  },
  {
   "cell_type": "markdown",
   "id": "5899177c-ede1-41c2-b8fe-d0089ef5d4b6",
   "metadata": {},
   "source": [
    "You have been provided with data from the Titanic Passenger Roaster, depicting if an individual\n",
    "survived the sinking of the ship or not. ‘Survived’ is denoted by (1) and ‘Did Not Survive’ is\n",
    "denoted by (0). Only using Plotly, graph the following information from the data. Feel free to use\n",
    "any of the Plotly submodules discussed (graph_objects, plotly express or iplot). Remember to\n",
    "label your axis and name your plots appropriately. For each given question, only one figure is\n",
    "expected"
   ]
  },
  {
   "cell_type": "code",
   "execution_count": 1,
   "id": "cf0facf9-5630-46f4-adab-fad9c1a6a3ec",
   "metadata": {},
   "outputs": [],
   "source": [
    "import pandas as pd\n",
    "import plotly.express as px\n",
    "import plotly.graph_objs as go\n",
    "import plotly.io as pio\n",
    "pio.renderers.default = \"iframe\""
   ]
  },
  {
   "cell_type": "code",
   "execution_count": 2,
   "id": "8bdf21f4-6004-42cc-8608-b51d8a1e1278",
   "metadata": {},
   "outputs": [
    {
     "data": {
      "text/html": [
       "<div>\n",
       "<style scoped>\n",
       "    .dataframe tbody tr th:only-of-type {\n",
       "        vertical-align: middle;\n",
       "    }\n",
       "\n",
       "    .dataframe tbody tr th {\n",
       "        vertical-align: top;\n",
       "    }\n",
       "\n",
       "    .dataframe thead th {\n",
       "        text-align: right;\n",
       "    }\n",
       "</style>\n",
       "<table border=\"1\" class=\"dataframe\">\n",
       "  <thead>\n",
       "    <tr style=\"text-align: right;\">\n",
       "      <th></th>\n",
       "      <th>PassengerId</th>\n",
       "      <th>Survived</th>\n",
       "      <th>Pclass</th>\n",
       "      <th>Name</th>\n",
       "      <th>Sex</th>\n",
       "      <th>Age</th>\n",
       "      <th>SibSp</th>\n",
       "      <th>Parch</th>\n",
       "      <th>Ticket</th>\n",
       "      <th>Fare</th>\n",
       "      <th>Cabin</th>\n",
       "      <th>Embarked</th>\n",
       "    </tr>\n",
       "  </thead>\n",
       "  <tbody>\n",
       "    <tr>\n",
       "      <th>0</th>\n",
       "      <td>1</td>\n",
       "      <td>0</td>\n",
       "      <td>3</td>\n",
       "      <td>Braund, Mr. Owen Harris</td>\n",
       "      <td>male</td>\n",
       "      <td>22.0</td>\n",
       "      <td>1</td>\n",
       "      <td>0</td>\n",
       "      <td>A/5 21171</td>\n",
       "      <td>7.2500</td>\n",
       "      <td>NaN</td>\n",
       "      <td>S</td>\n",
       "    </tr>\n",
       "    <tr>\n",
       "      <th>1</th>\n",
       "      <td>2</td>\n",
       "      <td>1</td>\n",
       "      <td>1</td>\n",
       "      <td>Cumings, Mrs. John Bradley (Florence Briggs Th...</td>\n",
       "      <td>female</td>\n",
       "      <td>38.0</td>\n",
       "      <td>1</td>\n",
       "      <td>0</td>\n",
       "      <td>PC 17599</td>\n",
       "      <td>71.2833</td>\n",
       "      <td>C85</td>\n",
       "      <td>C</td>\n",
       "    </tr>\n",
       "    <tr>\n",
       "      <th>2</th>\n",
       "      <td>3</td>\n",
       "      <td>1</td>\n",
       "      <td>3</td>\n",
       "      <td>Heikkinen, Miss. Laina</td>\n",
       "      <td>female</td>\n",
       "      <td>26.0</td>\n",
       "      <td>0</td>\n",
       "      <td>0</td>\n",
       "      <td>STON/O2. 3101282</td>\n",
       "      <td>7.9250</td>\n",
       "      <td>NaN</td>\n",
       "      <td>S</td>\n",
       "    </tr>\n",
       "    <tr>\n",
       "      <th>3</th>\n",
       "      <td>4</td>\n",
       "      <td>1</td>\n",
       "      <td>1</td>\n",
       "      <td>Futrelle, Mrs. Jacques Heath (Lily May Peel)</td>\n",
       "      <td>female</td>\n",
       "      <td>35.0</td>\n",
       "      <td>1</td>\n",
       "      <td>0</td>\n",
       "      <td>113803</td>\n",
       "      <td>53.1000</td>\n",
       "      <td>C123</td>\n",
       "      <td>S</td>\n",
       "    </tr>\n",
       "    <tr>\n",
       "      <th>4</th>\n",
       "      <td>5</td>\n",
       "      <td>0</td>\n",
       "      <td>3</td>\n",
       "      <td>Allen, Mr. William Henry</td>\n",
       "      <td>male</td>\n",
       "      <td>35.0</td>\n",
       "      <td>0</td>\n",
       "      <td>0</td>\n",
       "      <td>373450</td>\n",
       "      <td>8.0500</td>\n",
       "      <td>NaN</td>\n",
       "      <td>S</td>\n",
       "    </tr>\n",
       "    <tr>\n",
       "      <th>...</th>\n",
       "      <td>...</td>\n",
       "      <td>...</td>\n",
       "      <td>...</td>\n",
       "      <td>...</td>\n",
       "      <td>...</td>\n",
       "      <td>...</td>\n",
       "      <td>...</td>\n",
       "      <td>...</td>\n",
       "      <td>...</td>\n",
       "      <td>...</td>\n",
       "      <td>...</td>\n",
       "      <td>...</td>\n",
       "    </tr>\n",
       "    <tr>\n",
       "      <th>886</th>\n",
       "      <td>887</td>\n",
       "      <td>0</td>\n",
       "      <td>2</td>\n",
       "      <td>Montvila, Rev. Juozas</td>\n",
       "      <td>male</td>\n",
       "      <td>27.0</td>\n",
       "      <td>0</td>\n",
       "      <td>0</td>\n",
       "      <td>211536</td>\n",
       "      <td>13.0000</td>\n",
       "      <td>NaN</td>\n",
       "      <td>S</td>\n",
       "    </tr>\n",
       "    <tr>\n",
       "      <th>887</th>\n",
       "      <td>888</td>\n",
       "      <td>1</td>\n",
       "      <td>1</td>\n",
       "      <td>Graham, Miss. Margaret Edith</td>\n",
       "      <td>female</td>\n",
       "      <td>19.0</td>\n",
       "      <td>0</td>\n",
       "      <td>0</td>\n",
       "      <td>112053</td>\n",
       "      <td>30.0000</td>\n",
       "      <td>B42</td>\n",
       "      <td>S</td>\n",
       "    </tr>\n",
       "    <tr>\n",
       "      <th>888</th>\n",
       "      <td>889</td>\n",
       "      <td>0</td>\n",
       "      <td>3</td>\n",
       "      <td>Johnston, Miss. Catherine Helen \"Carrie\"</td>\n",
       "      <td>female</td>\n",
       "      <td>NaN</td>\n",
       "      <td>1</td>\n",
       "      <td>2</td>\n",
       "      <td>W./C. 6607</td>\n",
       "      <td>23.4500</td>\n",
       "      <td>NaN</td>\n",
       "      <td>S</td>\n",
       "    </tr>\n",
       "    <tr>\n",
       "      <th>889</th>\n",
       "      <td>890</td>\n",
       "      <td>1</td>\n",
       "      <td>1</td>\n",
       "      <td>Behr, Mr. Karl Howell</td>\n",
       "      <td>male</td>\n",
       "      <td>26.0</td>\n",
       "      <td>0</td>\n",
       "      <td>0</td>\n",
       "      <td>111369</td>\n",
       "      <td>30.0000</td>\n",
       "      <td>C148</td>\n",
       "      <td>C</td>\n",
       "    </tr>\n",
       "    <tr>\n",
       "      <th>890</th>\n",
       "      <td>891</td>\n",
       "      <td>0</td>\n",
       "      <td>3</td>\n",
       "      <td>Dooley, Mr. Patrick</td>\n",
       "      <td>male</td>\n",
       "      <td>32.0</td>\n",
       "      <td>0</td>\n",
       "      <td>0</td>\n",
       "      <td>370376</td>\n",
       "      <td>7.7500</td>\n",
       "      <td>NaN</td>\n",
       "      <td>Q</td>\n",
       "    </tr>\n",
       "  </tbody>\n",
       "</table>\n",
       "<p>891 rows × 12 columns</p>\n",
       "</div>"
      ],
      "text/plain": [
       "     PassengerId  Survived  Pclass  \\\n",
       "0              1         0       3   \n",
       "1              2         1       1   \n",
       "2              3         1       3   \n",
       "3              4         1       1   \n",
       "4              5         0       3   \n",
       "..           ...       ...     ...   \n",
       "886          887         0       2   \n",
       "887          888         1       1   \n",
       "888          889         0       3   \n",
       "889          890         1       1   \n",
       "890          891         0       3   \n",
       "\n",
       "                                                  Name     Sex   Age  SibSp  \\\n",
       "0                              Braund, Mr. Owen Harris    male  22.0      1   \n",
       "1    Cumings, Mrs. John Bradley (Florence Briggs Th...  female  38.0      1   \n",
       "2                               Heikkinen, Miss. Laina  female  26.0      0   \n",
       "3         Futrelle, Mrs. Jacques Heath (Lily May Peel)  female  35.0      1   \n",
       "4                             Allen, Mr. William Henry    male  35.0      0   \n",
       "..                                                 ...     ...   ...    ...   \n",
       "886                              Montvila, Rev. Juozas    male  27.0      0   \n",
       "887                       Graham, Miss. Margaret Edith  female  19.0      0   \n",
       "888           Johnston, Miss. Catherine Helen \"Carrie\"  female   NaN      1   \n",
       "889                              Behr, Mr. Karl Howell    male  26.0      0   \n",
       "890                                Dooley, Mr. Patrick    male  32.0      0   \n",
       "\n",
       "     Parch            Ticket     Fare Cabin Embarked  \n",
       "0        0         A/5 21171   7.2500   NaN        S  \n",
       "1        0          PC 17599  71.2833   C85        C  \n",
       "2        0  STON/O2. 3101282   7.9250   NaN        S  \n",
       "3        0            113803  53.1000  C123        S  \n",
       "4        0            373450   8.0500   NaN        S  \n",
       "..     ...               ...      ...   ...      ...  \n",
       "886      0            211536  13.0000   NaN        S  \n",
       "887      0            112053  30.0000   B42        S  \n",
       "888      2        W./C. 6607  23.4500   NaN        S  \n",
       "889      0            111369  30.0000  C148        C  \n",
       "890      0            370376   7.7500   NaN        Q  \n",
       "\n",
       "[891 rows x 12 columns]"
      ]
     },
     "execution_count": 2,
     "metadata": {},
     "output_type": "execute_result"
    }
   ],
   "source": [
    "Titanic=pd.read_csv('Titanic Data.csv')\n",
    "Titanic"
   ]
  },
  {
   "cell_type": "markdown",
   "id": "080472aa-b89a-468e-9691-00fade72dc52",
   "metadata": {},
   "source": [
    "### Question 1"
   ]
  },
  {
   "cell_type": "markdown",
   "id": "f9bb869d-8bd0-4db4-a335-8ad4374ceed4",
   "metadata": {},
   "source": [
    "Show the age distribution in the data using a histogram"
   ]
  },
  {
   "cell_type": "code",
   "execution_count": 18,
   "id": "808b3e99-b7fb-491e-99cf-11358e9e0936",
   "metadata": {},
   "outputs": [
    {
     "data": {
      "text/html": [
       "<iframe\n",
       "    scrolling=\"no\"\n",
       "    width=\"100%\"\n",
       "    height=\"545px\"\n",
       "    src=\"iframe_figures/figure_18.html\"\n",
       "    frameborder=\"0\"\n",
       "    allowfullscreen\n",
       "></iframe>\n"
      ]
     },
     "metadata": {},
     "output_type": "display_data"
    }
   ],
   "source": [
    "trace1 = go.Histogram(\n",
    "    x=Titanic.Age,\n",
    "    opacity=0.75,\n",
    "    name = \"Age\",\n",
    "    marker=dict(color='rgba(171, 50, 96, 0.6)'))\n",
    "\n",
    "data = [trace1]\n",
    "layout = go.Layout(barmode='group',\n",
    "                   title=' Age distribution',\n",
    "                   xaxis=dict(title='Age')\n",
    ")\n",
    "fig = go.Figure(data=data, layout=layout)\n",
    "\n",
    "\n",
    "fig.show()"
   ]
  },
  {
   "cell_type": "markdown",
   "id": "c728212f-af4d-4c6f-8079-0f399f0c216f",
   "metadata": {},
   "source": [
    "## Question 2"
   ]
  },
  {
   "cell_type": "markdown",
   "id": "761371b4-3ef8-4d79-9250-1dd3875cd98c",
   "metadata": {},
   "source": [
    "Show the age distribution based on gender using a histogram."
   ]
  },
  {
   "cell_type": "code",
   "execution_count": 22,
   "id": "3ae47a6c-e1ae-4e8d-9bfb-9dd7fa4a6696",
   "metadata": {},
   "outputs": [
    {
     "data": {
      "text/html": [
       "<iframe\n",
       "    scrolling=\"no\"\n",
       "    width=\"100%\"\n",
       "    height=\"545px\"\n",
       "    src=\"iframe_figures/figure_22.html\"\n",
       "    frameborder=\"0\"\n",
       "    allowfullscreen\n",
       "></iframe>\n"
      ]
     },
     "metadata": {},
     "output_type": "display_data"
    }
   ],
   "source": [
    "trace1 = go.Histogram(\n",
    "    x=Titanic.Age,\n",
    "    opacity=0.75,\n",
    "    name = \"Age\",\n",
    "    marker=dict(color='rgba(171, 50, 96, 0.6)'),\n",
    "    text=Titanic.Sex\n",
    ")\n",
    "trace2 = go.Histogram(\n",
    "    x=Titanic.Sex,\n",
    "    opacity=0.75,\n",
    "    name = \"Gender\",\n",
    "    marker=dict(color='rgba(12, 50, 196, 0.6)'),\n",
    "  \n",
    ")\n",
    "\n",
    "data = [trace1, trace2]\n",
    "layout = go.Layout(barmode='group',\n",
    "                   title=' Age distribution based on Gender',\n",
    "                   xaxis=dict(title='Age'),\n",
    "                   yaxis=dict( title='Gender'),\n",
    ")\n",
    "fig = go.Figure(data=data, layout=layout)\n",
    "\n",
    "fig.show()"
   ]
  },
  {
   "cell_type": "markdown",
   "id": "bfd8b0b3-1b1e-4cc1-811a-03d28da098ce",
   "metadata": {},
   "source": []
  },
  {
   "cell_type": "markdown",
   "id": "9829f1bc-e3a2-4c1b-86d3-f65edee89fad",
   "metadata": {},
   "source": [
    "Using the function df.corr() to identify the correlation within the data, represent its results\n",
    "using a form of a matrix plot."
   ]
  },
  {
   "cell_type": "code",
   "execution_count": 5,
   "id": "cfd018ac-5417-438f-90cd-76ffe0161ed6",
   "metadata": {},
   "outputs": [
    {
     "data": {
      "text/html": [
       "<div>\n",
       "<style scoped>\n",
       "    .dataframe tbody tr th:only-of-type {\n",
       "        vertical-align: middle;\n",
       "    }\n",
       "\n",
       "    .dataframe tbody tr th {\n",
       "        vertical-align: top;\n",
       "    }\n",
       "\n",
       "    .dataframe thead th {\n",
       "        text-align: right;\n",
       "    }\n",
       "</style>\n",
       "<table border=\"1\" class=\"dataframe\">\n",
       "  <thead>\n",
       "    <tr style=\"text-align: right;\">\n",
       "      <th></th>\n",
       "      <th>PassengerId</th>\n",
       "      <th>Survived</th>\n",
       "      <th>Pclass</th>\n",
       "      <th>Age</th>\n",
       "      <th>SibSp</th>\n",
       "      <th>Parch</th>\n",
       "      <th>Fare</th>\n",
       "    </tr>\n",
       "  </thead>\n",
       "  <tbody>\n",
       "    <tr>\n",
       "      <th>PassengerId</th>\n",
       "      <td>1.000000</td>\n",
       "      <td>-0.005007</td>\n",
       "      <td>-0.035144</td>\n",
       "      <td>0.036847</td>\n",
       "      <td>-0.057527</td>\n",
       "      <td>-0.001652</td>\n",
       "      <td>0.012658</td>\n",
       "    </tr>\n",
       "    <tr>\n",
       "      <th>Survived</th>\n",
       "      <td>-0.005007</td>\n",
       "      <td>1.000000</td>\n",
       "      <td>-0.338481</td>\n",
       "      <td>-0.077221</td>\n",
       "      <td>-0.035322</td>\n",
       "      <td>0.081629</td>\n",
       "      <td>0.257307</td>\n",
       "    </tr>\n",
       "    <tr>\n",
       "      <th>Pclass</th>\n",
       "      <td>-0.035144</td>\n",
       "      <td>-0.338481</td>\n",
       "      <td>1.000000</td>\n",
       "      <td>-0.369226</td>\n",
       "      <td>0.083081</td>\n",
       "      <td>0.018443</td>\n",
       "      <td>-0.549500</td>\n",
       "    </tr>\n",
       "    <tr>\n",
       "      <th>Age</th>\n",
       "      <td>0.036847</td>\n",
       "      <td>-0.077221</td>\n",
       "      <td>-0.369226</td>\n",
       "      <td>1.000000</td>\n",
       "      <td>-0.308247</td>\n",
       "      <td>-0.189119</td>\n",
       "      <td>0.096067</td>\n",
       "    </tr>\n",
       "    <tr>\n",
       "      <th>SibSp</th>\n",
       "      <td>-0.057527</td>\n",
       "      <td>-0.035322</td>\n",
       "      <td>0.083081</td>\n",
       "      <td>-0.308247</td>\n",
       "      <td>1.000000</td>\n",
       "      <td>0.414838</td>\n",
       "      <td>0.159651</td>\n",
       "    </tr>\n",
       "    <tr>\n",
       "      <th>Parch</th>\n",
       "      <td>-0.001652</td>\n",
       "      <td>0.081629</td>\n",
       "      <td>0.018443</td>\n",
       "      <td>-0.189119</td>\n",
       "      <td>0.414838</td>\n",
       "      <td>1.000000</td>\n",
       "      <td>0.216225</td>\n",
       "    </tr>\n",
       "    <tr>\n",
       "      <th>Fare</th>\n",
       "      <td>0.012658</td>\n",
       "      <td>0.257307</td>\n",
       "      <td>-0.549500</td>\n",
       "      <td>0.096067</td>\n",
       "      <td>0.159651</td>\n",
       "      <td>0.216225</td>\n",
       "      <td>1.000000</td>\n",
       "    </tr>\n",
       "  </tbody>\n",
       "</table>\n",
       "</div>"
      ],
      "text/plain": [
       "             PassengerId  Survived    Pclass       Age     SibSp     Parch  \\\n",
       "PassengerId     1.000000 -0.005007 -0.035144  0.036847 -0.057527 -0.001652   \n",
       "Survived       -0.005007  1.000000 -0.338481 -0.077221 -0.035322  0.081629   \n",
       "Pclass         -0.035144 -0.338481  1.000000 -0.369226  0.083081  0.018443   \n",
       "Age             0.036847 -0.077221 -0.369226  1.000000 -0.308247 -0.189119   \n",
       "SibSp          -0.057527 -0.035322  0.083081 -0.308247  1.000000  0.414838   \n",
       "Parch          -0.001652  0.081629  0.018443 -0.189119  0.414838  1.000000   \n",
       "Fare            0.012658  0.257307 -0.549500  0.096067  0.159651  0.216225   \n",
       "\n",
       "                 Fare  \n",
       "PassengerId  0.012658  \n",
       "Survived     0.257307  \n",
       "Pclass      -0.549500  \n",
       "Age          0.096067  \n",
       "SibSp        0.159651  \n",
       "Parch        0.216225  \n",
       "Fare         1.000000  "
      ]
     },
     "execution_count": 5,
     "metadata": {},
     "output_type": "execute_result"
    }
   ],
   "source": [
    "Titanic.corr()"
   ]
  },
  {
   "cell_type": "code",
   "execution_count": 6,
   "id": "54eb5ce2-703e-4ea6-bbea-8f7ac558b77a",
   "metadata": {},
   "outputs": [
    {
     "data": {
      "text/html": [
       "<iframe\n",
       "    scrolling=\"no\"\n",
       "    width=\"100%\"\n",
       "    height=\"545px\"\n",
       "    src=\"iframe_figures/figure_6.html\"\n",
       "    frameborder=\"0\"\n",
       "    allowfullscreen\n",
       "></iframe>\n"
      ]
     },
     "metadata": {},
     "output_type": "display_data"
    }
   ],
   "source": [
    "fig = go.Figure(data=go.Splom(\n",
    "                dimensions=[dict(label='Correlation of the data',\n",
    "                                 values=Titanic.corr())],\n",
    "     text=Titanic.PassengerId,\n",
    "                marker=dict(color=Titanic.PassengerId,\n",
    "                            showscale=False,\n",
    "                             line_color='white')\n",
    "                            ))\n",
    "\n",
    "fig.show()"
   ]
  },
  {
   "cell_type": "markdown",
   "id": "634d292f-0503-4096-910a-bc34b4266c15",
   "metadata": {},
   "source": [
    "### Question 4"
   ]
  },
  {
   "cell_type": "markdown",
   "id": "7502b4aa-30fb-4203-8c93-711968fb4465",
   "metadata": {},
   "source": [
    "Pivot the data setting the column Pclass as the columns and Fare as the values. From the\n",
    "resulting structure, use a boxplot to show the distribution of the values in its 3 columns.\n"
   ]
  },
  {
   "cell_type": "code",
   "execution_count": 23,
   "id": "e112284d-fbce-4729-bb67-619140b718e6",
   "metadata": {},
   "outputs": [
    {
     "data": {
      "text/html": [
       "<iframe\n",
       "    scrolling=\"no\"\n",
       "    width=\"100%\"\n",
       "    height=\"545px\"\n",
       "    src=\"iframe_figures/figure_23.html\"\n",
       "    frameborder=\"0\"\n",
       "    allowfullscreen\n",
       "></iframe>\n"
      ]
     },
     "metadata": {},
     "output_type": "display_data"
    }
   ],
   "source": [
    "trace1 = go.Box(\n",
    "    y=Titanic.Pclass,\n",
    "    name = 'Passenger Class',\n",
    "    marker = dict(\n",
    "        color = 'rgb(12, 128, 128)',\n",
    "    )\n",
    ")\n",
    "trace2 = go.Box(\n",
    "    y=Titanic.Pclass,\n",
    "    name = 'Passenger Class',\n",
    "    marker = dict(\n",
    "        color = 'rgb(12, 128, 128)',\n",
    "    )\n",
    ")\n",
    "trace3 = go.Box(\n",
    "    y=Titanic.Pclass,\n",
    "    name = 'Passenger Class',\n",
    "    marker = dict(\n",
    "        color = 'rgb(12, 128, 128)',\n",
    "    )\n",
    ")\n",
    "data = [trace1,trace2,trace3]\n",
    "\n",
    "layout = {\n",
    "  'xaxis': {'title': 'Top 3 universities'},\n",
    "  'barmode': 'group',\n",
    "  'title': 'Passenger Class'\n",
    "};\n",
    "\n",
    "fig = go.Figure(data=data)\n",
    "\n",
    "\n",
    "#fig = go.Figure(dict(data = data, layout = layout))\n",
    "\n",
    "fig.show()"
   ]
  },
  {
   "cell_type": "markdown",
   "id": "0437224c-7041-450f-a84b-ecb6faea48e5",
   "metadata": {},
   "source": [
    "### Question 5"
   ]
  },
  {
   "cell_type": "markdown",
   "id": "5a25fde3-09de-457c-9c88-58981f29ac97",
   "metadata": {},
   "source": [
    "Graph the value counts of the number of passengers who survived and did not survive\n",
    "based on gender using a stacked bar graph."
   ]
  },
  {
   "cell_type": "code",
   "execution_count": 8,
   "id": "6662e604-3a0d-49f4-b9e2-75623d49e8be",
   "metadata": {},
   "outputs": [
    {
     "data": {
      "text/html": [
       "<iframe\n",
       "    scrolling=\"no\"\n",
       "    width=\"100%\"\n",
       "    height=\"545px\"\n",
       "    src=\"iframe_figures/figure_8.html\"\n",
       "    frameborder=\"0\"\n",
       "    allowfullscreen\n",
       "></iframe>\n"
      ]
     },
     "metadata": {},
     "output_type": "display_data"
    }
   ],
   "source": [
    "x = Titanic.Sex\n",
    "trace1 = {\n",
    "  'x': x,\n",
    "  'y': Titanic.Survived==0,\n",
    "  'name': 'Survived',\n",
    "  'type': 'bar'\n",
    "};\n",
    "trace2 = {\n",
    "  'x': x,\n",
    "  'y': Titanic.Survived==1,\n",
    "  'name': 'Not Survived',\n",
    "  'type': 'bar'\n",
    "};\n",
    "data = [trace1, trace2];\n",
    "\n",
    "\n",
    "layout = {\n",
    "  'xaxis': {'title': 'Top 3 universities'},\n",
    "  'barmode': 'relative',\n",
    "  'title': 'citations and teaching of top 3 universities in 2014'\n",
    "};\n",
    "\n",
    "fig = go.Figure(dict(data = data, layout = layout))\n",
    "\n",
    "fig.show()"
   ]
  },
  {
   "cell_type": "markdown",
   "id": "2437b9d9-3a28-4962-a09a-178d29083f4f",
   "metadata": {},
   "source": [
    "### Question 6"
   ]
  },
  {
   "cell_type": "markdown",
   "id": "f873449e-17c6-4791-ae65-0867d2f88cb1",
   "metadata": {},
   "source": [
    "Using a scatter plot, plot the ages to the fare paid by the each passenger based on their\n",
    "gender."
   ]
  },
  {
   "cell_type": "code",
   "execution_count": 33,
   "id": "c48e66aa-62b1-4360-bda6-0775828aca89",
   "metadata": {},
   "outputs": [
    {
     "data": {
      "text/html": [
       "<iframe\n",
       "    scrolling=\"no\"\n",
       "    width=\"100%\"\n",
       "    height=\"545px\"\n",
       "    src=\"iframe_figures/figure_33.html\"\n",
       "    frameborder=\"0\"\n",
       "    allowfullscreen\n",
       "></iframe>\n"
      ]
     },
     "metadata": {},
     "output_type": "display_data"
    }
   ],
   "source": [
    "#age\n",
    "trace1=go.Scatter(\n",
    "    x = Titanic.Age,\n",
    "   y = Titanic['Fare'],\n",
    "    mode = 'markers',\n",
    "    name = \"Age\",\n",
    "    marker = dict(color = 'rgba(255, 128, 255, 0.8)'),\n",
    "    text= Titanic.Sex)\n",
    "\n",
    "#Fare\n",
    "#trace2=go.Scatter(\n",
    " #   x = Titanic.Fare,\n",
    "   # y = Titanic['Fare'],\n",
    "  #  mode = 'markers',\n",
    "   # name = \"Fare\",\n",
    "    #marker = dict(color = 'rgba(67, 32, 235, 0.8)'),\n",
    "    #text= Titanic.Sex)\n",
    "\n",
    "#data\n",
    "data = [trace1]\n",
    "\n",
    "#Layout\n",
    "layout = dict(title = 'Age vs Fare paid based on Gender',\n",
    "              xaxis= dict(title= 'Age',ticklen= 5,zeroline= False),\n",
    "              yaxis= dict(title= 'Fare Paid',ticklen= 5,zeroline= False)\n",
    "             )\n",
    "\n",
    "#Figure\n",
    "fig = go.Figure(dict(data = data, layout = layout))\n",
    "\n",
    "#Graph\n",
    "fig.show()\n"
   ]
  },
  {
   "cell_type": "markdown",
   "id": "7ea6abed-f46c-4879-b13a-b9988d49135d",
   "metadata": {},
   "source": [
    "### Question 7"
   ]
  },
  {
   "cell_type": "markdown",
   "id": "6d29e7d1-03e7-4efa-b8bb-e14a96b46789",
   "metadata": {},
   "source": [
    "Plot a bubble plot of the ages to the fare paid by each passenger categorizing whether\n",
    "they survived or not. The size of each bubble should be determined by the passenger class\n",
    "and the name of each individual as the hover name."
   ]
  },
  {
   "cell_type": "code",
   "execution_count": 10,
   "id": "79fb5add-2eea-420a-b7b8-63070fb303e6",
   "metadata": {},
   "outputs": [
    {
     "data": {
      "text/html": [
       "<iframe\n",
       "    scrolling=\"no\"\n",
       "    width=\"100%\"\n",
       "    height=\"545px\"\n",
       "    src=\"iframe_figures/figure_10.html\"\n",
       "    frameborder=\"0\"\n",
       "    allowfullscreen\n",
       "></iframe>\n"
      ]
     },
     "metadata": {},
     "output_type": "display_data"
    }
   ],
   "source": [
    "data = [\n",
    "    {\n",
    "        'y': Titanic.Age,\n",
    "        'x': Titanic.Fare,\n",
    "        'mode': 'markers',\n",
    "        'marker': {\n",
    "            'color': Titanic.Survived,\n",
    "            'size': Titanic.Pclass,\n",
    "            'showscale': True\n",
    "        },\n",
    "        \"text\" :  Titanic.Name    \n",
    "    }\n",
    "]\n",
    "\n",
    "\n",
    "fig = go.Figure(data)\n",
    "\n",
    "fig.show()"
   ]
  }
 ],
 "metadata": {
  "kernelspec": {
   "display_name": "Python 3",
   "language": "python",
   "name": "python3"
  },
  "language_info": {
   "codemirror_mode": {
    "name": "ipython",
    "version": 3
   },
   "file_extension": ".py",
   "mimetype": "text/x-python",
   "name": "python",
   "nbconvert_exporter": "python",
   "pygments_lexer": "ipython3",
   "version": "3.8.8"
  }
 },
 "nbformat": 4,
 "nbformat_minor": 5
}
